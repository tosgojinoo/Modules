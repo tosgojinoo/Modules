{
 "cells": [
  {
   "cell_type": "code",
   "execution_count": 9,
   "metadata": {},
   "outputs": [],
   "source": [
    "from matplotlib import font_manager, rc\n",
    "import matplotlib.pyplot as plt\n",
    "import seaborn as sns\n",
    "import platform \n",
    "import sys\n",
    "# 그래프에서 한글 표기를 위한 글꼴 변경(윈도우, macOS에 대해 처리)\n",
    "font_path = ''\n",
    "# if sys.platform in [\"win32\", \"win64\"]:\n",
    "#     font_name = \"malgun gothic\"\n",
    "if platform.system() == 'Windows': \n",
    "    font_path = 'c:/Windows/Fonts/malgun.ttf'\n",
    "    font_name = font_manager.FontProperties(fname = font_path).get_name()\n",
    "elif platform.system() == 'Darwin':\n",
    "    font_path = '/Users/$USER/Library/Fonts/AppleGothic.ttf'\n",
    "    font_name = \"AppleGothic\"\n",
    "    \n",
    "else: \n",
    "    print('Check your OS system')\n",
    "\n",
    "rc('font', family = font_name)\n",
    "    \n",
    "%matplotlib inline"
   ]
  },
  {
   "cell_type": "code",
   "execution_count": 1,
   "metadata": {
    "scrolled": true
   },
   "outputs": [
    {
     "data": {
      "text/plain": [
       "0    ['#애월흑돼지', '#애월흑돼지맛집', '#제주흑돼지', '#제주흑돼지맛집', '...\n",
       "1    ['#하이리', '#애월맛집', '#애월카페', '#제주맛집', '#제주카페', '...\n",
       "2    ['#이춘옥고등어쌈밥.제주도에서', '#제주맛집', '#제주도맛집', '#제주시맛집...\n",
       "Name: tags, dtype: object"
      ]
     },
     "execution_count": 1,
     "metadata": {},
     "output_type": "execute_result"
    }
   ],
   "source": [
    "import pandas as pd\n",
    "raw_total = pd.read_excel('./files/3_1_crawling_raw.xlsx')\n",
    "raw_total['tags'] [:3]"
   ]
  },
  {
   "cell_type": "code",
   "execution_count": 4,
   "metadata": {},
   "outputs": [],
   "source": [
    "# 해시태그 통합 저장\n",
    "tags_total = []\n",
    "\n",
    "for tags in raw_total['tags']:\n",
    "    tags_list = tags[2:-2].split(\"', '\")\n",
    "    for tag in tags_list:\n",
    "        tags_total.append(tag)"
   ]
  },
  {
   "cell_type": "code",
   "execution_count": 6,
   "metadata": {},
   "outputs": [],
   "source": [
    "# 빈도수 집계\n",
    "from collections import Counter\n",
    "tag_counts = Counter(tags_total)"
   ]
  },
  {
   "cell_type": "code",
   "execution_count": 7,
   "metadata": {
    "scrolled": true
   },
   "outputs": [
    {
     "data": {
      "text/plain": [
       "[('#제주맛집', 2880),\n",
       " ('#제주관광', 2827),\n",
       " ('#제주여행', 2826),\n",
       " ('#제주도맛집', 1724),\n",
       " ('#제주도', 1691),\n",
       " ('#제주', 1397),\n",
       " ('#제주도여행', 1109),\n",
       " ('#서귀포맛집', 1041),\n",
       " ('#서귀포', 790),\n",
       " ('#제주도가볼만한곳', 694),\n",
       " ('#제주핫플레이스', 693),\n",
       " ('#jeju', 682),\n",
       " ('#일상', 540),\n",
       " ('#제주도민', 526),\n",
       " ('#제주카페', 514),\n",
       " ('#제주맛집추천', 500),\n",
       " ('#협재맛집', 496),\n",
       " ('#성산일출봉', 469),\n",
       " ('', 468),\n",
       " ('#제주흑돼지맛집', 467),\n",
       " ('#제주핫플', 463),\n",
       " ('#제주도그램', 452),\n",
       " ('#제주살이', 449),\n",
       " ('#제주도흑돼지', 446),\n",
       " ('#제주도흑돼지맛집', 445),\n",
       " ('#제주반영구', 439),\n",
       " ('#제주도관광', 439),\n",
       " ('#제주눈썹문신', 433),\n",
       " ('#제주가볼만한곳', 429),\n",
       " ('#선팔', 427),\n",
       " ('#서귀포눈썹문신', 419),\n",
       " ('#제주시', 415),\n",
       " ('#여행스타그램', 411),\n",
       " ('#제주흑돼지', 401),\n",
       " ('#눈썹문신', 400),\n",
       " ('#반영구', 399),\n",
       " ('#제주자연눈썹', 396),\n",
       " ('#제주속눈썹', 396),\n",
       " ('#섭지코지', 396),\n",
       " ('#서귀포남자눈썹문신', 394),\n",
       " ('#서귀포자연눈썹', 394),\n",
       " ('#제주남자눈썹문신', 394),\n",
       " ('#서귀포속눈썹', 394),\n",
       " ('#서귀포반영구', 394),\n",
       " ('#서귀포흑돼지맛집', 376),\n",
       " ('#여행', 370),\n",
       " ('#성산일출봉맛집', 369),\n",
       " ('#서귀포흑돼지', 366),\n",
       " ('#제주메이크업', 358),\n",
       " ('#섭지코지맛집', 355)]"
      ]
     },
     "execution_count": 7,
     "metadata": {},
     "output_type": "execute_result"
    }
   ],
   "source": [
    "# 가장 많이 사용된 해시태그\n",
    "tag_counts.most_common(50)"
   ]
  },
  {
   "cell_type": "code",
   "execution_count": 8,
   "metadata": {},
   "outputs": [
    {
     "data": {
      "text/plain": [
       "[('#제주맛집', 2880),\n",
       " ('#제주관광', 2827),\n",
       " ('#제주여행', 2826),\n",
       " ('#제주도맛집', 1724),\n",
       " ('#제주', 1397),\n",
       " ('#제주도여행', 1109),\n",
       " ('#서귀포맛집', 1041),\n",
       " ('#서귀포', 790),\n",
       " ('#제주도가볼만한곳', 694),\n",
       " ('#제주핫플레이스', 693)]"
      ]
     },
     "execution_count": 8,
     "metadata": {},
     "output_type": "execute_result"
    }
   ],
   "source": [
    "# 데이터 정제\n",
    "STOPWORDS = ['#일상', '#선팔', '#제주도', '#jeju', '#반영구', '#제주자연눈썹',\n",
    "'#서귀포눈썹문신', '#제주눈썹문신', '#소통', '#맞팔']\n",
    "\n",
    "tag_total_selected = []\n",
    "for tag in tags_total:\n",
    "    if tag not in STOPWORDS:\n",
    "        tag_total_selected.append(tag)\n",
    "        \n",
    "tag_counts_selected = Counter(tag_total_selected)\n",
    "tag_counts_selected.most_common(10)\n"
   ]
  },
  {
   "cell_type": "code",
   "execution_count": 10,
   "metadata": {},
   "outputs": [],
   "source": [
    "tag_counts_df = pd.DataFrame(tag_counts_selected.most_common(30))\n",
    "tag_counts_df.columns = ['tags', 'counts']"
   ]
  },
  {
   "cell_type": "code",
   "execution_count": 11,
   "metadata": {},
   "outputs": [
    {
     "data": {
      "text/plain": [
       "<matplotlib.axes._subplots.AxesSubplot at 0x118017e48>"
      ]
     },
     "execution_count": 11,
     "metadata": {},
     "output_type": "execute_result"
    },
    {
     "data": {
      "image/png": "[encoded data removed]",
      "text/plain": [
       "<Figure size 720x576 with 1 Axes>"
      ]
     },
     "metadata": {
      "needs_background": "light"
     },
     "output_type": "display_data"
    }
   ],
   "source": [
    "plt.figure(figsize=(10,8)) \n",
    "sns.barplot(x='counts', y='tags', data = tag_counts_df)"
   ]
  },
  {
   "cell_type": "code",
   "execution_count": 15,
   "metadata": {},
   "outputs": [],
   "source": [
    "# 워드클라우드 라이브러리\n",
    "import matplotlib.pyplot as plt\n",
    "from wordcloud import WordCloud\n",
    "import platform\n",
    "\n",
    "if platform.system() == 'Windows':   #윈도우의 경우\n",
    "    font_path = \"c:/Windows/Fonts/malgun.ttf\"\n",
    "elif platform.system() == \"Darwin\":   #Mac 의 경우\n",
    "    font_path = \"/Users/$USER/Library/Fonts/AppleGothic.ttf\""
   ]
  },
  {
   "cell_type": "code",
   "execution_count": null,
   "metadata": {},
   "outputs": [],
   "source": [
    "# 워드클라우드\n",
    "wordcloud=WordCloud(font_path= font_path, \n",
    "                    background_color=\"white\",\n",
    "                    max_words=100,\n",
    "                    relative_scaling= 0.3,\n",
    "                    width = 800,\n",
    "                    height = 400\n",
    "                 ).generate_from_frequencies(tag_counts_selected)  \n",
    "plt.figure(figsize=(15,10))\n",
    "plt.imshow(wordcloud)\n",
    "plt.axis('off')\n",
    "plt.savefig('./files/3_2_tag-wordcloud.png')  "
   ]
  }
 ],
 "metadata": {
  "kernelspec": {
   "display_name": "Python 3",
   "language": "python",
   "name": "python3"
  },
  "language_info": {
   "codemirror_mode": {
    "name": "ipython",
    "version": 3
   },
   "file_extension": ".py",
   "mimetype": "text/x-python",
   "name": "python",
   "nbconvert_exporter": "python",
   "pygments_lexer": "ipython3",
   "version": "3.7.2"
  },
  "toc": {
   "base_numbering": 1,
   "nav_menu": {},
   "number_sections": true,
   "sideBar": true,
   "skip_h1_title": false,
   "title_cell": "Table of Contents",
   "title_sidebar": "Contents",
   "toc_cell": false,
   "toc_position": {},
   "toc_section_display": true,
   "toc_window_display": false
  },
  "varInspector": {
   "cols": {
    "lenName": 16,
    "lenType": 16,
    "lenVar": 40
   },
   "kernels_config": {
    "python": {
     "delete_cmd_postfix": "",
     "delete_cmd_prefix": "del ",
     "library": "var_list.py",
     "varRefreshCmd": "print(var_dic_list())"
    },
    "r": {
     "delete_cmd_postfix": ") ",
     "delete_cmd_prefix": "rm(",
     "library": "var_list.r",
     "varRefreshCmd": "cat(var_dic_list()) "
    }
   },
   "types_to_exclude": [
    "module",
    "function",
    "builtin_function_or_method",
    "instance",
    "_Feature"
   ],
   "window_display": false
  }
 },
 "nbformat": 4,
 "nbformat_minor": 2
}

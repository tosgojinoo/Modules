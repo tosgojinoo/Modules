{
 "cells": [
  {
   "cell_type": "markdown",
   "metadata": {},
   "source": [
    "# 문자열 처리"
   ]
  },
  {
   "cell_type": "code",
   "execution_count": 1,
   "metadata": {},
   "outputs": [
    {
     "name": "stdout",
     "output_type": "stream",
     "text": [
      "2월 20일은 일요일입니다\n"
     ]
    }
   ],
   "source": [
    "month = \"2월\"\n",
    "day = \"20일\"\n",
    "say = \"{} {}은 일요일입니다\".format(month, day)\n",
    "print(say)    "
   ]
  },
  {
   "cell_type": "code",
   "execution_count": 2,
   "metadata": {},
   "outputs": [
    {
     "name": "stdout",
     "output_type": "stream",
     "text": [
      "   hp010-0000-0000   \n",
      "hp010-0000-0000\n",
      " 010-0000-0000\n",
      "[' 010', '0000', '0000']\n"
     ]
    }
   ],
   "source": [
    "t1 = \"   hp010-0000-0000   \"\n",
    "print(t1)\n",
    "t2 = t1.strip() # 공백제거\n",
    "print(t2) \n",
    "t3 = t2.replace('hp', ' ') # 대체\n",
    "print(t3)      \n",
    "t4 = t3.split('-') # 나누기\n",
    "print(t4)      "
   ]
  },
  {
   "cell_type": "code",
   "execution_count": null,
   "metadata": {},
   "outputs": [],
   "source": [
    "df['년도'] = df['기준년월'].str.slice(0, 4)\n",
    "df['월'] = df['기준년월'].str.slice(5, 7)"
   ]
  },
  {
   "cell_type": "code",
   "execution_count": null,
   "metadata": {},
   "outputs": [],
   "source": [
    "#author realted variables\n",
    "df['a']= df['author'].str.contains('그림', na=False,regex=False)\n",
    "\n",
    "df['b']=df['author'].str.contains('공역' and '역',na=False,regex=False)\n",
    "\n",
    "df['c']=df['author'].str.contains('편집부' or '(주)' or '(사)' or '운영진',na=False, regex=False)"
   ]
  },
  {
   "cell_type": "markdown",
   "metadata": {},
   "source": [
    "# 특수문자 제거"
   ]
  },
  {
   "cell_type": "code",
   "execution_count": null,
   "metadata": {},
   "outputs": [],
   "source": [
    "def cleanText(text):\n",
    "    # NaN value는 NaN value끼리 비교하면 항상 false (np.isnan()이 안먹힐 경우)\n",
    "    if text!=text:\n",
    "        return text\n",
    "    else:\n",
    "        result1 = re.sub('[^\\w\\s]+', ' ', text)\n",
    "        result2 = re.sub('<[^>]*>', ' ', result1)\n",
    "        result3 = re.sub('  ', ' ', result2)\n",
    "        return result3"
   ]
  },
  {
   "cell_type": "markdown",
   "metadata": {},
   "source": [
    "# 문자 대치"
   ]
  },
  {
   "cell_type": "code",
   "execution_count": null,
   "metadata": {},
   "outputs": [],
   "source": [
    "def cleanAuthor(author):\n",
    "    if author!=author:\n",
    "        return author\n",
    "    else:\n",
    "        result1 = author.replace(' 편집부', '')\n",
    "        result2 = result1.replace(' 외', '')\n",
    "        result3 = result2.replace(' 공저', '')\n",
    "        result4 = result3.replace(' 편', '')\n",
    "        result5 = result4.replace(' 글', '')\n",
    "        result6 = result5.replace('글 ', '')\n",
    "        result7 = result6.replace(' 그림', '')\n",
    "        result8 = result7.replace('그림 ', '')\n",
    "        return result8\n",
    "    \n",
    "book_info['author_clean'] = book_info['author'].apply(lambda x: cleanAuthor(x))"
   ]
  },
  {
   "cell_type": "markdown",
   "metadata": {},
   "source": [
    "# 유사도 구하기"
   ]
  },
  {
   "cell_type": "markdown",
   "metadata": {},
   "source": [
    "## Fuzzy Wuzzy\n",
    "- Levenshtein 거리를 구현하는 패키지\n",
    "- https://www.it-swarm.net/ko/python/%EB%91%90-%EB%AC%B8%EC%9E%90%EC%97%B4-%EA%B0%84%EC%9D%98-%EC%9C%A0%EC%82%AC%EB%8F%84-%EB%A9%94%ED%8A%B8%EB%A6%AD-%EC%B0%BE%EA%B8%B0/1073090489/"
   ]
  },
  {
   "cell_type": "code",
   "execution_count": null,
   "metadata": {},
   "outputs": [],
   "source": [
    "from itertools import product\n",
    "from fuzzywuzzy.fuzz import ratio\n",
    "\n",
    "keys = list(set(publisher_list['publisher']))\n",
    "ratios = pd.DataFrame([{'k1': k1, 'k2': k2, 'ratio': ratio(k1, k2)} for k1, k2 in product(keys, keys) if k1 != k2])"
   ]
  },
  {
   "cell_type": "code",
   "execution_count": null,
   "metadata": {},
   "outputs": [],
   "source": [
    "def find_closest(publisher):\n",
    "    return df[df['publisher'] == ratios.loc[ratios[ratios['k1'] == publisher]['ratio'].argmax(), 'k2']].index.values[0]\n",
    "\n",
    "df['closest_index'] = df['publisher'].apply(find_closest)"
   ]
  },
  {
   "cell_type": "code",
   "execution_count": null,
   "metadata": {},
   "outputs": [],
   "source": [
    "book_info_all['title'] = book_info_all['title'].apply(lambda x: cleanText(x))"
   ]
  }
 ],
 "metadata": {
  "kernelspec": {
   "display_name": "Python 3",
   "language": "python",
   "name": "python3"
  },
  "language_info": {
   "codemirror_mode": {
    "name": "ipython",
    "version": 3
   },
   "file_extension": ".py",
   "mimetype": "text/x-python",
   "name": "python",
   "nbconvert_exporter": "python",
   "pygments_lexer": "ipython3",
   "version": "3.7.2"
  },
  "toc": {
   "base_numbering": 1,
   "nav_menu": {},
   "number_sections": true,
   "sideBar": true,
   "skip_h1_title": false,
   "title_cell": "Table of Contents",
   "title_sidebar": "Contents",
   "toc_cell": false,
   "toc_position": {},
   "toc_section_display": true,
   "toc_window_display": false
  },
  "varInspector": {
   "cols": {
    "lenName": 16,
    "lenType": 16,
    "lenVar": 40
   },
   "kernels_config": {
    "python": {
     "delete_cmd_postfix": "",
     "delete_cmd_prefix": "del ",
     "library": "var_list.py",
     "varRefreshCmd": "print(var_dic_list())"
    },
    "r": {
     "delete_cmd_postfix": ") ",
     "delete_cmd_prefix": "rm(",
     "library": "var_list.r",
     "varRefreshCmd": "cat(var_dic_list()) "
    }
   },
   "types_to_exclude": [
    "module",
    "function",
    "builtin_function_or_method",
    "instance",
    "_Feature"
   ],
   "window_display": false
  }
 },
 "nbformat": 4,
 "nbformat_minor": 2
}

{
 "cells": [
  {
   "cell_type": "markdown",
   "metadata": {},
   "source": [
    "# 문자열 처리"
   ]
  },
  {
   "cell_type": "code",
   "execution_count": null,
   "metadata": {},
   "outputs": [],
   "source": [
    "#author realted variables\n",
    "df['a']= df['author'].str.contains('그림', na=False,regex=False)\n",
    "\n",
    "df['b']=df['author'].str.contains('공역' and '역',na=False,regex=False)\n",
    "\n",
    "df['c']=df['author'].str.contains('편집부' or '(주)' or '(사)' or '운영진',na=False, regex=False)"
   ]
  },
  {
   "cell_type": "markdown",
   "metadata": {},
   "source": [
    "# 특수문자 제거"
   ]
  },
  {
   "cell_type": "code",
   "execution_count": null,
   "metadata": {},
   "outputs": [],
   "source": [
    "def cleanText(text):\n",
    "    # NaN value는 NaN value끼리 비교하면 항상 false (np.isnan()이 안먹힐 경우)\n",
    "    if text!=text:\n",
    "        return text\n",
    "    else:\n",
    "        result1 = re.sub('[^\\w\\s]+', ' ', text)\n",
    "        result2 = re.sub('<[^>]*>', ' ', result1)\n",
    "        result3 = re.sub('  ', ' ', result2)\n",
    "        return result3"
   ]
  },
  {
   "cell_type": "markdown",
   "metadata": {},
   "source": [
    "# 유사도 구하기"
   ]
  },
  {
   "cell_type": "markdown",
   "metadata": {},
   "source": [
    "## Fuzzy Wuzzy\n",
    "- Levenshtein 거리를 구현하는 패키지\n",
    "- https://www.it-swarm.net/ko/python/%EB%91%90-%EB%AC%B8%EC%9E%90%EC%97%B4-%EA%B0%84%EC%9D%98-%EC%9C%A0%EC%82%AC%EB%8F%84-%EB%A9%94%ED%8A%B8%EB%A6%AD-%EC%B0%BE%EA%B8%B0/1073090489/"
   ]
  },
  {
   "cell_type": "code",
   "execution_count": null,
   "metadata": {},
   "outputs": [],
   "source": [
    "from itertools import product\n",
    "from fuzzywuzzy.fuzz import ratio\n",
    "\n",
    "keys = list(set(publisher_list['publisher']))\n",
    "ratios = pd.DataFrame([{'k1': k1, 'k2': k2, 'ratio': ratio(k1, k2)} for k1, k2 in product(keys, keys) if k1 != k2])"
   ]
  },
  {
   "cell_type": "code",
   "execution_count": null,
   "metadata": {},
   "outputs": [],
   "source": [
    "def find_closest(publisher):\n",
    "    return df[df['publisher'] == ratios.loc[ratios[ratios['k1'] == publisher]['ratio'].argmax(), 'k2']].index.values[0]\n",
    "\n",
    "df['closest_index'] = df['publisher'].apply(find_closest)"
   ]
  },
  {
   "cell_type": "code",
   "execution_count": null,
   "metadata": {},
   "outputs": [],
   "source": [
    "book_info_all['title'] = book_info_all['title'].apply(lambda x: cleanText(x))"
   ]
  }
 ],
 "metadata": {
  "kernelspec": {
   "display_name": "Python 3",
   "language": "python",
   "name": "python3"
  },
  "language_info": {
   "codemirror_mode": {
    "name": "ipython",
    "version": 3
   },
   "file_extension": ".py",
   "mimetype": "text/x-python",
   "name": "python",
   "nbconvert_exporter": "python",
   "pygments_lexer": "ipython3",
   "version": "3.7.2"
  },
  "toc": {
   "base_numbering": 1,
   "nav_menu": {},
   "number_sections": true,
   "sideBar": true,
   "skip_h1_title": false,
   "title_cell": "Table of Contents",
   "title_sidebar": "Contents",
   "toc_cell": false,
   "toc_position": {},
   "toc_section_display": true,
   "toc_window_display": false
  },
  "varInspector": {
   "cols": {
    "lenName": 16,
    "lenType": 16,
    "lenVar": 40
   },
   "kernels_config": {
    "python": {
     "delete_cmd_postfix": "",
     "delete_cmd_prefix": "del ",
     "library": "var_list.py",
     "varRefreshCmd": "print(var_dic_list())"
    },
    "r": {
     "delete_cmd_postfix": ") ",
     "delete_cmd_prefix": "rm(",
     "library": "var_list.r",
     "varRefreshCmd": "cat(var_dic_list()) "
    }
   },
   "types_to_exclude": [
    "module",
    "function",
    "builtin_function_or_method",
    "instance",
    "_Feature"
   ],
   "window_display": false
  }
 },
 "nbformat": 4,
 "nbformat_minor": 2
}

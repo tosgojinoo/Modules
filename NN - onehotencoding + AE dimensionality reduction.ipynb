{
 "cells": [
  {
   "cell_type": "markdown",
   "metadata": {
    "_uuid": "93b41229599509f643f1c1df3b86b3f79b66666f"
   },
   "source": [
    "## This model has the following characteristics:\n",
    "* No feature engineering\n",
    "* Applying One-hot-Encoding to raw transactions\n",
    "* Applying Autoencoder to reduce the number of features"
   ]
  },
  {
   "cell_type": "code",
   "execution_count": 2,
   "metadata": {
    "_cell_guid": "79c7e3d0-c299-4dcb-8224-4455121ee9b0",
    "_uuid": "d629ff2d2480ee46fbb7e2d37f6b5fab8052498a"
   },
   "outputs": [],
   "source": [
    "import os\n",
    "import numpy as np # linear algebra\n",
    "import pandas as pd # data processing, CSV file I/O (e.g. pd.read_csv)\n",
    "import matplotlib.pyplot as plt\n",
    "\n",
    "from numpy.random import seed\n",
    "from sklearn.preprocessing import minmax_scale\n",
    "from sklearn.model_selection import train_test_split\n",
    "\n",
    "from keras.layers import Input, Dense, Dropout\n",
    "from keras.models import Model, Sequential\n",
    "from keras.optimizers import RMSprop\n",
    "from keras import regularizers\n",
    "from keras.callbacks import EarlyStopping"
   ]
  },
  {
   "cell_type": "markdown",
   "metadata": {
    "_uuid": "dd7e3527fd56e5b5855c6846ca226f5f860f725b"
   },
   "source": [
    "### Read Data"
   ]
  },
  {
   "cell_type": "code",
   "execution_count": 3,
   "metadata": {
    "_uuid": "794123064b09797f51add356a676fb6a7aed015d"
   },
   "outputs": [
    {
     "data": {
      "text/html": [
       "<div>\n",
       "<style scoped>\n",
       "    .dataframe tbody tr th:only-of-type {\n",
       "        vertical-align: middle;\n",
       "    }\n",
       "\n",
       "    .dataframe tbody tr th {\n",
       "        vertical-align: top;\n",
       "    }\n",
       "\n",
       "    .dataframe thead th {\n",
       "        text-align: right;\n",
       "    }\n",
       "</style>\n",
       "<table border=\"1\" class=\"dataframe\">\n",
       "  <thead>\n",
       "    <tr style=\"text-align: right;\">\n",
       "      <th></th>\n",
       "      <th>cust_id</th>\n",
       "      <th>tran_date</th>\n",
       "      <th>store_nm</th>\n",
       "      <th>goods_id</th>\n",
       "      <th>gds_grp_nm</th>\n",
       "      <th>gds_grp_mclas_nm</th>\n",
       "      <th>amount</th>\n",
       "    </tr>\n",
       "  </thead>\n",
       "  <tbody>\n",
       "    <tr>\n",
       "      <th>0</th>\n",
       "      <td>0</td>\n",
       "      <td>2007-01-19 00:00:00</td>\n",
       "      <td>강남점</td>\n",
       "      <td>127105</td>\n",
       "      <td>기초 화장품</td>\n",
       "      <td>화장품</td>\n",
       "      <td>850000</td>\n",
       "    </tr>\n",
       "    <tr>\n",
       "      <th>1</th>\n",
       "      <td>0</td>\n",
       "      <td>2007-03-30 00:00:00</td>\n",
       "      <td>강남점</td>\n",
       "      <td>342220</td>\n",
       "      <td>니  트</td>\n",
       "      <td>시티웨어</td>\n",
       "      <td>480000</td>\n",
       "    </tr>\n",
       "    <tr>\n",
       "      <th>2</th>\n",
       "      <td>0</td>\n",
       "      <td>2007-03-30 00:00:00</td>\n",
       "      <td>강남점</td>\n",
       "      <td>127105</td>\n",
       "      <td>기초 화장품</td>\n",
       "      <td>화장품</td>\n",
       "      <td>3000000</td>\n",
       "    </tr>\n",
       "    <tr>\n",
       "      <th>3</th>\n",
       "      <td>0</td>\n",
       "      <td>2007-03-30 00:00:00</td>\n",
       "      <td>강남점</td>\n",
       "      <td>342205</td>\n",
       "      <td>니  트</td>\n",
       "      <td>시티웨어</td>\n",
       "      <td>840000</td>\n",
       "    </tr>\n",
       "    <tr>\n",
       "      <th>4</th>\n",
       "      <td>0</td>\n",
       "      <td>2007-03-30 00:00:00</td>\n",
       "      <td>강남점</td>\n",
       "      <td>342220</td>\n",
       "      <td>상품군미지정</td>\n",
       "      <td>기타</td>\n",
       "      <td>20000</td>\n",
       "    </tr>\n",
       "  </tbody>\n",
       "</table>\n",
       "</div>"
      ],
      "text/plain": [
       "   cust_id            tran_date store_nm  goods_id gds_grp_nm  \\\n",
       "0        0  2007-01-19 00:00:00      강남점    127105     기초 화장품   \n",
       "1        0  2007-03-30 00:00:00      강남점    342220       니  트   \n",
       "2        0  2007-03-30 00:00:00      강남점    127105     기초 화장품   \n",
       "3        0  2007-03-30 00:00:00      강남점    342205       니  트   \n",
       "4        0  2007-03-30 00:00:00      강남점    342220     상품군미지정   \n",
       "\n",
       "  gds_grp_mclas_nm   amount  \n",
       "0              화장품   850000  \n",
       "1             시티웨어   480000  \n",
       "2              화장품  3000000  \n",
       "3             시티웨어   840000  \n",
       "4               기타    20000  "
      ]
     },
     "execution_count": 3,
     "metadata": {},
     "output_type": "execute_result"
    }
   ],
   "source": [
    "df_train = pd.read_csv('X_train.csv', encoding='cp949')\n",
    "df_test = pd.read_csv('X_test.csv', encoding='cp949')\n",
    "y_train = pd.read_csv('y_train.csv').gender\n",
    "IDtest = df_test.cust_id.unique()\n",
    "\n",
    "df_train.head()"
   ]
  },
  {
   "cell_type": "code",
   "execution_count": 4,
   "metadata": {},
   "outputs": [
    {
     "data": {
      "text/plain": [
       "((232004, 7), (163558, 7), (3500,))"
      ]
     },
     "execution_count": 4,
     "metadata": {},
     "output_type": "execute_result"
    }
   ],
   "source": [
    "df_train.shape, df_test.shape, y_train.shape"
   ]
  },
  {
   "cell_type": "markdown",
   "metadata": {
    "_uuid": "8fdb273f73bbee0a8f11b33be46446b6825e9b6a"
   },
   "source": [
    "### Transform Categorical Data with One-hot Encoding"
   ]
  },
  {
   "cell_type": "code",
   "execution_count": 5,
   "metadata": {
    "_uuid": "e258620d0d00d3a2924a9b041c4fd2bef5ab2ed9",
    "scrolled": true
   },
   "outputs": [
    {
     "data": {
      "text/plain": [
       "((3500, 4179), (2482, 4179))"
      ]
     },
     "execution_count": 5,
     "metadata": {},
     "output_type": "execute_result"
    }
   ],
   "source": [
    "level = 'gds_grp_nm'\n",
    "\n",
    "df_all = pd.concat([df_train, df_test])\n",
    "train1 = pd.pivot_table(df_all, index='cust_id', columns=level, values='amount',\n",
    "                         aggfunc=lambda x: np.where(len(x) >=1, 1, 0), fill_value=0). \\\n",
    "                         reset_index(). \\\n",
    "                         query('cust_id not in @IDtest'). \\\n",
    "                         drop(columns=['cust_id']).values\n",
    "test1 = pd.pivot_table(df_all, index='cust_id', columns=level, values='amount',\n",
    "                         aggfunc=lambda x: np.where(len(x) >=1, 1, 0), fill_value=0). \\\n",
    "                         reset_index(). \\\n",
    "                         query('cust_id in @IDtest'). \\\n",
    "                         drop(columns=['cust_id']).values\n",
    "\n",
    "level = 'gds_grp_mclas_nm'\n",
    "\n",
    "df_all = pd.concat([df_train, df_test])\n",
    "train2 = pd.pivot_table(df_all, index='cust_id', columns=level, values='amount',\n",
    "                         aggfunc=lambda x: np.where(len(x) >=1, 1, 0), fill_value=0). \\\n",
    "                         reset_index(). \\\n",
    "                         query('cust_id not in @IDtest'). \\\n",
    "                         drop(columns=['cust_id']).values\n",
    "test2 = pd.pivot_table(df_all, index='cust_id', columns=level, values='amount',\n",
    "                         aggfunc=lambda x: np.where(len(x) >=1, 1, 0), fill_value=0). \\\n",
    "                         reset_index(). \\\n",
    "                         query('cust_id in @IDtest'). \\\n",
    "                         drop(columns=['cust_id']).values\n",
    "\n",
    "level = 'goods_id'\n",
    "\n",
    "df_all = pd.concat([df_train, df_test])\n",
    "train3 = pd.pivot_table(df_all, index='cust_id', columns=level, values='amount',\n",
    "                         aggfunc=lambda x: np.where(len(x) >=1, 1, 0), fill_value=0). \\\n",
    "                         reset_index(). \\\n",
    "                         query('cust_id not in @IDtest'). \\\n",
    "                         drop(columns=['cust_id']).values\n",
    "test3 = pd.pivot_table(df_all, index='cust_id', columns=level, values='amount',\n",
    "                         aggfunc=lambda x: np.where(len(x) >=1, 1, 0), fill_value=0). \\\n",
    "                         reset_index(). \\\n",
    "                         query('cust_id in @IDtest'). \\\n",
    "                         drop(columns=['cust_id']).values\n",
    "\n",
    "train = np.hstack([train1, train2, train3])\n",
    "test = np.hstack([test1, test2, test3])\n",
    "\n",
    "train.shape, test.shape"
   ]
  },
  {
   "cell_type": "code",
   "execution_count": 6,
   "metadata": {},
   "outputs": [
    {
     "data": {
      "text/plain": [
       "(3500,)"
      ]
     },
     "execution_count": 6,
     "metadata": {},
     "output_type": "execute_result"
    }
   ],
   "source": [
    "y_train.shape"
   ]
  },
  {
   "cell_type": "markdown",
   "metadata": {
    "_uuid": "e164a8c9f319c2d69804b54236e55b98fa9fdef5"
   },
   "source": [
    "### Reduce Dimensionality using Autoencoder"
   ]
  },
  {
   "cell_type": "code",
   "execution_count": 6,
   "metadata": {
    "_uuid": "9b9fb17eaecd326dea504e129f4cf43ea7c11cea"
   },
   "outputs": [
    {
     "name": "stdout",
     "output_type": "stream",
     "text": [
      "Model: \"model_1\"\n",
      "_________________________________________________________________\n",
      "Layer (type)                 Output Shape              Param #   \n",
      "=================================================================\n",
      "input_1 (InputLayer)         (None, 4179)              0         \n",
      "_________________________________________________________________\n",
      "dense_1 (Dense)              (None, 512)               2140160   \n",
      "_________________________________________________________________\n",
      "dense_2 (Dense)              (None, 256)               131328    \n",
      "_________________________________________________________________\n",
      "dense_3 (Dense)              (None, 128)               32896     \n",
      "_________________________________________________________________\n",
      "dense_4 (Dense)              (None, 128)               16512     \n",
      "_________________________________________________________________\n",
      "dense_5 (Dense)              (None, 128)               16512     \n",
      "_________________________________________________________________\n",
      "dense_6 (Dense)              (None, 256)               33024     \n",
      "_________________________________________________________________\n",
      "dense_7 (Dense)              (None, 512)               131584    \n",
      "_________________________________________________________________\n",
      "dense_8 (Dense)              (None, 4179)              2143827   \n",
      "=================================================================\n",
      "Total params: 4,645,843\n",
      "Trainable params: 4,645,843\n",
      "Non-trainable params: 0\n",
      "_________________________________________________________________\n",
      "Train on 3500 samples, validate on 2482 samples\n",
      "Epoch 1/20\n",
      "3500/3500 [==============================] - 6s 2ms/step - loss: 0.0098 - val_loss: 0.0095\n",
      "Epoch 2/20\n",
      "3500/3500 [==============================] - 6s 2ms/step - loss: 0.0090 - val_loss: 0.0090\n",
      "Epoch 3/20\n",
      "3500/3500 [==============================] - 6s 2ms/step - loss: 0.0086 - val_loss: 0.0088\n",
      "Epoch 4/20\n",
      "3500/3500 [==============================] - 5s 2ms/step - loss: 0.0083 - val_loss: 0.0085\n",
      "Epoch 5/20\n",
      "3500/3500 [==============================] - 6s 2ms/step - loss: 0.0080 - val_loss: 0.0084\n",
      "Epoch 6/20\n",
      "3500/3500 [==============================] - 5s 2ms/step - loss: 0.0078 - val_loss: 0.0082\n",
      "Epoch 7/20\n",
      "3500/3500 [==============================] - 5s 2ms/step - loss: 0.0076 - val_loss: 0.0081\n",
      "Epoch 8/20\n",
      "3500/3500 [==============================] - 5s 2ms/step - loss: 0.0075 - val_loss: 0.0079\n",
      "Epoch 9/20\n",
      "3500/3500 [==============================] - 6s 2ms/step - loss: 0.0073 - val_loss: 0.0079\n",
      "Epoch 10/20\n",
      "3500/3500 [==============================] - 5s 2ms/step - loss: 0.0072 - val_loss: 0.0078\n",
      "Epoch 11/20\n",
      "3500/3500 [==============================] - 5s 2ms/step - loss: 0.0071 - val_loss: 0.0078\n",
      "Epoch 12/20\n",
      "3500/3500 [==============================] - 5s 1ms/step - loss: 0.0070 - val_loss: 0.0077\n",
      "Epoch 13/20\n",
      "3500/3500 [==============================] - 5s 1ms/step - loss: 0.0068 - val_loss: 0.0077\n",
      "Epoch 14/20\n",
      "3500/3500 [==============================] - 5s 2ms/step - loss: 0.0067 - val_loss: 0.0077\n",
      "Epoch 15/20\n",
      "3500/3500 [==============================] - 5s 2ms/step - loss: 0.0066 - val_loss: 0.0076\n",
      "Epoch 16/20\n",
      "3500/3500 [==============================] - 5s 2ms/step - loss: 0.0065 - val_loss: 0.0076\n",
      "Epoch 17/20\n",
      "3500/3500 [==============================] - 5s 2ms/step - loss: 0.0064 - val_loss: 0.0076\n",
      "Epoch 18/20\n",
      "3500/3500 [==============================] - 6s 2ms/step - loss: 0.0064 - val_loss: 0.0076\n",
      "Epoch 19/20\n",
      "3500/3500 [==============================] - 5s 2ms/step - loss: 0.0063 - val_loss: 0.0077\n",
      "Epoch 20/20\n",
      "3500/3500 [==============================] - 5s 2ms/step - loss: 0.0062 - val_loss: 0.0077\n"
     ]
    },
    {
     "data": {
      "image/png": "[encoded data removed]",
      "text/plain": [
       "<Figure size 432x288 with 1 Axes>"
      ]
     },
     "metadata": {
      "needs_background": "light"
     },
     "output_type": "display_data"
    }
   ],
   "source": [
    "# Define the number of features\n",
    "max_features = train.shape[1]\n",
    "\n",
    "# Define the encoder dimension\n",
    "encoding_dim = 128\n",
    "\n",
    "# Input Layer\n",
    "input_dim = Input(shape = (max_features, ))\n",
    "\n",
    "# Encoder Layers\n",
    "encoded1 = Dense(512, activation = 'relu')(input_dim)\n",
    "encoded2 = Dense(256, activation = 'relu')(encoded1)\n",
    "encoded3 = Dense(128, activation = 'relu')(encoded2)\n",
    "encoded4 = Dense(encoding_dim, activation = 'relu')(encoded3)\n",
    "\n",
    "# Decoder Layers\n",
    "decoded1 = Dense(128, activation = 'relu')(encoded4)\n",
    "decoded2 = Dense(256, activation = 'relu')(decoded1)\n",
    "decoded3 = Dense(512, activation = 'relu')(decoded2)\n",
    "decoded4 = Dense(max_features, activation = 'linear')(decoded3)\n",
    "\n",
    "# Combine Encoder and Deocder layers\n",
    "autoencoder = Model(inputs = input_dim, outputs = decoded4)\n",
    "autoencoder.summary()\n",
    "\n",
    "# Compile the model\n",
    "autoencoder.compile(optimizer = 'adam', loss = 'mse')\n",
    "\n",
    "# Train the model\n",
    "history = autoencoder.fit(train, train, epochs=20, batch_size=64, \n",
    "                          shuffle=True, validation_data=(test,test))\n",
    "\n",
    "plt.plot(history.history[\"loss\"], label=\"train loss\")\n",
    "plt.plot(history.history[\"val_loss\"], label=\"validation loss\")\n",
    "plt.legend()\n",
    "plt.title(\"Loss\")\n",
    "plt.show()"
   ]
  },
  {
   "cell_type": "code",
   "execution_count": 7,
   "metadata": {
    "_uuid": "6dd0e229a627e051f3141d4bb3c3d9970953dba0"
   },
   "outputs": [
    {
     "data": {
      "text/plain": [
       "((3500, 128), (2482, 128))"
      ]
     },
     "execution_count": 7,
     "metadata": {},
     "output_type": "execute_result"
    }
   ],
   "source": [
    "# Use a middle Bottleneck Layer to Reduce Dimension\n",
    "hidden_act = [encoded4] #[encoded1, encoded2, encoded3, decoded1, decoded2]\n",
    "for ix, act in enumerate(hidden_act):\n",
    "    model = Model(inputs=input_dim, outputs=act)\n",
    "    if ix == 0: \n",
    "        X_train = model.predict(train)\n",
    "        X_test = model.predict(test)\n",
    "    else:\n",
    "        X_train = np.hstack([X_train, model.predict(train)])\n",
    "        X_test = np.hstack([X_test, model.predict(test)])\n",
    "        \n",
    "X_train.shape, X_test.shape"
   ]
  },
  {
   "cell_type": "code",
   "execution_count": 8,
   "metadata": {},
   "outputs": [
    {
     "data": {
      "text/plain": [
       "(3500,)"
      ]
     },
     "execution_count": 8,
     "metadata": {},
     "output_type": "execute_result"
    }
   ],
   "source": [
    "y_train.shape"
   ]
  },
  {
   "cell_type": "markdown",
   "metadata": {
    "_uuid": "756511749ed6b1dcd34e791c15f041d4e47f9df4"
   },
   "source": [
    "### Build Models"
   ]
  },
  {
   "cell_type": "code",
   "execution_count": 9,
   "metadata": {
    "_uuid": "5e470379b59e72b66cc024f62ba5ac514f7cf15b"
   },
   "outputs": [
    {
     "name": "stdout",
     "output_type": "stream",
     "text": [
      "Model: \"sequential_1\"\n",
      "_________________________________________________________________\n",
      "Layer (type)                 Output Shape              Param #   \n",
      "=================================================================\n",
      "dense_9 (Dense)              (None, 32)                4128      \n",
      "_________________________________________________________________\n",
      "dropout_1 (Dropout)          (None, 32)                0         \n",
      "_________________________________________________________________\n",
      "dense_10 (Dense)             (None, 16)                528       \n",
      "_________________________________________________________________\n",
      "dropout_2 (Dropout)          (None, 16)                0         \n",
      "_________________________________________________________________\n",
      "dense_11 (Dense)             (None, 1)                 17        \n",
      "=================================================================\n",
      "Total params: 4,673\n",
      "Trainable params: 4,673\n",
      "Non-trainable params: 0\n",
      "_________________________________________________________________\n",
      "Train on 2800 samples, validate on 700 samples\n",
      "Epoch 1/100\n",
      "2800/2800 [==============================] - 0s 134us/step - loss: 1.0992 - acc: 0.5911 - val_loss: 0.9700 - val_acc: 0.6229\n",
      "Epoch 2/100\n",
      "2800/2800 [==============================] - 0s 38us/step - loss: 0.9123 - acc: 0.6082 - val_loss: 0.8506 - val_acc: 0.6229\n",
      "Epoch 3/100\n",
      "2800/2800 [==============================] - 0s 45us/step - loss: 0.8219 - acc: 0.6171 - val_loss: 0.7801 - val_acc: 0.6229\n",
      "Epoch 4/100\n",
      "2800/2800 [==============================] - 0s 41us/step - loss: 0.7651 - acc: 0.6214 - val_loss: 0.7346 - val_acc: 0.6229\n",
      "Epoch 5/100\n",
      "2800/2800 [==============================] - 0s 40us/step - loss: 0.7244 - acc: 0.6346 - val_loss: 0.7031 - val_acc: 0.6371\n",
      "Epoch 6/100\n",
      "2800/2800 [==============================] - 0s 39us/step - loss: 0.6994 - acc: 0.6475 - val_loss: 0.6794 - val_acc: 0.6557\n",
      "Epoch 7/100\n",
      "2800/2800 [==============================] - 0s 42us/step - loss: 0.6794 - acc: 0.6639 - val_loss: 0.6626 - val_acc: 0.6800\n",
      "Epoch 8/100\n",
      "2800/2800 [==============================] - 0s 38us/step - loss: 0.6648 - acc: 0.6732 - val_loss: 0.6557 - val_acc: 0.6614\n",
      "Epoch 9/100\n",
      "2800/2800 [==============================] - 0s 39us/step - loss: 0.6513 - acc: 0.6771 - val_loss: 0.6370 - val_acc: 0.6914\n",
      "Epoch 10/100\n",
      "2800/2800 [==============================] - 0s 37us/step - loss: 0.6372 - acc: 0.6889 - val_loss: 0.6248 - val_acc: 0.7057\n",
      "Epoch 11/100\n",
      "2800/2800 [==============================] - 0s 41us/step - loss: 0.6262 - acc: 0.6946 - val_loss: 0.6162 - val_acc: 0.7057\n",
      "Epoch 12/100\n",
      "2800/2800 [==============================] - 0s 44us/step - loss: 0.6230 - acc: 0.6993 - val_loss: 0.6092 - val_acc: 0.7014\n",
      "Epoch 13/100\n",
      "2800/2800 [==============================] - 0s 43us/step - loss: 0.6178 - acc: 0.6943 - val_loss: 0.6054 - val_acc: 0.7000\n",
      "Epoch 14/100\n",
      "2800/2800 [==============================] - 0s 36us/step - loss: 0.6086 - acc: 0.6986 - val_loss: 0.6031 - val_acc: 0.7000\n",
      "Epoch 15/100\n",
      "2800/2800 [==============================] - 0s 36us/step - loss: 0.6063 - acc: 0.7036 - val_loss: 0.5991 - val_acc: 0.7043\n",
      "Epoch 16/100\n",
      "2800/2800 [==============================] - 0s 34us/step - loss: 0.5996 - acc: 0.7014 - val_loss: 0.6035 - val_acc: 0.6943\n",
      "Epoch 17/100\n",
      "2800/2800 [==============================] - 0s 36us/step - loss: 0.5993 - acc: 0.7079 - val_loss: 0.5891 - val_acc: 0.6986\n",
      "Epoch 18/100\n",
      "2800/2800 [==============================] - 0s 35us/step - loss: 0.5978 - acc: 0.7086 - val_loss: 0.5859 - val_acc: 0.7086\n",
      "Epoch 19/100\n",
      "2800/2800 [==============================] - 0s 37us/step - loss: 0.5993 - acc: 0.6989 - val_loss: 0.5871 - val_acc: 0.6957\n",
      "Epoch 20/100\n",
      "2800/2800 [==============================] - 0s 39us/step - loss: 0.5949 - acc: 0.7018 - val_loss: 0.5866 - val_acc: 0.6943\n",
      "Epoch 21/100\n",
      "2800/2800 [==============================] - 0s 43us/step - loss: 0.5851 - acc: 0.7175 - val_loss: 0.5831 - val_acc: 0.7100\n",
      "Epoch 22/100\n",
      "2800/2800 [==============================] - 0s 45us/step - loss: 0.5869 - acc: 0.7104 - val_loss: 0.5887 - val_acc: 0.7071\n",
      "Epoch 23/100\n",
      "2800/2800 [==============================] - 0s 39us/step - loss: 0.5880 - acc: 0.7146 - val_loss: 0.5790 - val_acc: 0.6971\n",
      "Epoch 24/100\n",
      "2800/2800 [==============================] - 0s 36us/step - loss: 0.5831 - acc: 0.7107 - val_loss: 0.5771 - val_acc: 0.7014\n",
      "Epoch 25/100\n",
      "2800/2800 [==============================] - 0s 40us/step - loss: 0.5824 - acc: 0.7154 - val_loss: 0.5866 - val_acc: 0.6986\n",
      "Epoch 26/100\n",
      "2800/2800 [==============================] - 0s 36us/step - loss: 0.5845 - acc: 0.7018 - val_loss: 0.5751 - val_acc: 0.7000\n",
      "Epoch 27/100\n",
      "2800/2800 [==============================] - 0s 36us/step - loss: 0.5881 - acc: 0.7150 - val_loss: 0.5767 - val_acc: 0.7014\n",
      "Epoch 28/100\n",
      "2800/2800 [==============================] - 0s 35us/step - loss: 0.5814 - acc: 0.7143 - val_loss: 0.5763 - val_acc: 0.7014\n",
      "Epoch 29/100\n",
      "2800/2800 [==============================] - 0s 36us/step - loss: 0.5751 - acc: 0.7100 - val_loss: 0.5778 - val_acc: 0.7000\n",
      "Epoch 30/100\n",
      "2800/2800 [==============================] - 0s 36us/step - loss: 0.5786 - acc: 0.7164 - val_loss: 0.5774 - val_acc: 0.7014\n",
      "Epoch 31/100\n",
      "2800/2800 [==============================] - 0s 36us/step - loss: 0.5878 - acc: 0.7136 - val_loss: 0.5790 - val_acc: 0.7114\n"
     ]
    },
    {
     "data": {
      "image/png": "[encoded data removed]",
      "text/plain": [
       "<Figure size 432x288 with 1 Axes>"
      ]
     },
     "metadata": {
      "needs_background": "light"
     },
     "output_type": "display_data"
    }
   ],
   "source": [
    "# Define the number of features\n",
    "max_features = X_train.shape[1]\n",
    "\n",
    "# Define the Model architecture\n",
    "model = Sequential()\n",
    "model.add(Dense(32, activation='relu', input_shape=(max_features,), kernel_regularizer=regularizers.l2(0.01)))\n",
    "model.add(Dropout(0.3))\n",
    "model.add(Dense(16, activation='relu'))\n",
    "model.add(Dropout(0.3))\n",
    "model.add(Dense(1, activation='sigmoid'))\n",
    "\n",
    "model.summary()\n",
    "\n",
    "# Train the Model\n",
    "model.compile(optimizer='adam', loss='binary_crossentropy', metrics=['acc'])\n",
    "history = model.fit(X_train, y_train, epochs=100, batch_size=64, \n",
    "                    validation_split=0.2, callbacks=[EarlyStopping(patience=5)])\n",
    "\n",
    "plt.plot(history.history[\"loss\"], label=\"train loss\")\n",
    "plt.plot(history.history[\"val_loss\"], label=\"validation loss\")\n",
    "plt.legend()\n",
    "plt.title(\"Loss\")\n",
    "plt.show()"
   ]
  },
  {
   "cell_type": "markdown",
   "metadata": {
    "_uuid": "842573936f8fbc2fc01cbbd7ca485be6cb3601bb"
   },
   "source": [
    "### Make Submissions"
   ]
  },
  {
   "cell_type": "code",
   "execution_count": null,
   "metadata": {
    "_uuid": "7b6db88f3e4dee0f7f2264916edda431ac7bb72b"
   },
   "outputs": [],
   "source": [
    "pred = model.predict(X_test)[:,0]\n",
    "fname = 'submissions.csv'\n",
    "submissions = pd.concat([pd.Series(IDtest, name=\"cust_id\"), pd.Series(pred, name=\"gender\")] ,axis=1)\n",
    "submissions.to_csv(fname, index=False)\n",
    "print(\"'{}' is ready to submit.\" .format(fname))"
   ]
  },
  {
   "cell_type": "markdown",
   "metadata": {
    "_uuid": "db6a418af5947fb6d1546dc8949ac55663504f18"
   },
   "source": [
    "## End"
   ]
  }
 ],
 "metadata": {
  "kernelspec": {
   "display_name": "Python 3",
   "language": "python",
   "name": "python3"
  },
  "language_info": {
   "codemirror_mode": {
    "name": "ipython",
    "version": 3
   },
   "file_extension": ".py",
   "mimetype": "text/x-python",
   "name": "python",
   "nbconvert_exporter": "python",
   "pygments_lexer": "ipython3",
   "version": "3.7.2"
  },
  "toc": {
   "base_numbering": 1,
   "nav_menu": {},
   "number_sections": true,
   "sideBar": true,
   "skip_h1_title": false,
   "title_cell": "Table of Contents",
   "title_sidebar": "Contents",
   "toc_cell": false,
   "toc_position": {},
   "toc_section_display": true,
   "toc_window_display": false
  },
  "varInspector": {
   "cols": {
    "lenName": 16,
    "lenType": 16,
    "lenVar": 40
   },
   "kernels_config": {
    "python": {
     "delete_cmd_postfix": "",
     "delete_cmd_prefix": "del ",
     "library": "var_list.py",
     "varRefreshCmd": "print(var_dic_list())"
    },
    "r": {
     "delete_cmd_postfix": ") ",
     "delete_cmd_prefix": "rm(",
     "library": "var_list.r",
     "varRefreshCmd": "cat(var_dic_list()) "
    }
   },
   "types_to_exclude": [
    "module",
    "function",
    "builtin_function_or_method",
    "instance",
    "_Feature"
   ],
   "window_display": false
  }
 },
 "nbformat": 4,
 "nbformat_minor": 1
}

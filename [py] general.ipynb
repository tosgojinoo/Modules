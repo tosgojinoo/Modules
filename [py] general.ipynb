{
 "cells": [
  {
   "cell_type": "markdown",
   "metadata": {},
   "source": [
    "# Data Load/Save"
   ]
  },
  {
   "cell_type": "code",
   "execution_count": null,
   "metadata": {},
   "outputs": [],
   "source": [
    "df = pd.read_pickle('../input/a.pkl')\n",
    "df = pd.read_csv('../input/a.csv', encoding='cp949')\n",
    "df = pd.read_excel('./files/a.xlsx',\n",
    "                   header=1, \n",
    "                   skipfooter=2,\n",
    "                   usecols='A:C')"
   ]
  },
  {
   "cell_type": "code",
   "execution_count": null,
   "metadata": {},
   "outputs": [],
   "source": [
    "df.to_excel('./files/a.xlsx', index=False)"
   ]
  },
  {
   "cell_type": "markdown",
   "metadata": {},
   "source": [
    "# 여러 파일 불러와서 전처리 하는 함수"
   ]
  },
  {
   "cell_type": "code",
   "execution_count": null,
   "metadata": {},
   "outputs": [],
   "source": [
    "def create_kto_data(yy, mm):  \n",
    "    #1. 불러올 Excel 파일 경로를 지정해주기\n",
    "    file_path = './files/kto_{}{}.xlsx'.format(yy, mm)  \n",
    "    \n",
    "    # 2. Excel 파일 불러오기 \n",
    "    df = pd.read_excel(file_path, header=1, skipfooter=4, usecols='A:G')\n",
    "    \n",
    "    # 3. \"기준년월\" 컬럼 추가하기 \n",
    "    df['기준년월'] = '{}-{}'.format(yy, mm) \n",
    "    \n",
    "    # 4. \"국적\" 컬럼에서 대륙 제거하고 국가만 남기기 \n",
    "    ignore_list = ['아시아주', '미주', '구주', '대양주', '아프리카주', '기타대륙', '교포소계']\n",
    "    condition = (df['국적'].isin(ignore_list) == False)    # 대륙 미포함 조건 \n",
    "    df_country = df[condition].reset_index(drop=True) \n",
    "    \n",
    "    # 5. \"대륙\" 컬럼 추가하기 \n",
    "    continents = ['아시아']*25 + ['아메리카']*5 + ['유럽']*23 + ['대양주']*3 + ['아프리카']*2 + ['기타대륙'] + ['교포']\n",
    "    df_country['대륙'] = continents   \n",
    "                       \n",
    "    # 6. 국가별 \"관광객비율(%)\" 컬럼 추가하기 \n",
    "    df_country['관광객비율(%)'] = round(df_country.관광 / df_country.계 * 100, 1) \n",
    "                       \n",
    "    # 7. \"전체비율(%)\" 컬럼 추가하기 \n",
    "    tourist_sum = sum(df_country['관광'])\n",
    "    df_country['전체비율(%)'] = round(df_country['관광'] / tourist_sum * 100, 1)\n",
    "    \n",
    "    # 8. 결과 출력하기 \n",
    "    return(df_country)\n",
    "\n",
    "# 함수를 활용해서 2018년 12월 데이터 불러오기  \n",
    "kto_test = create_kto_data(2018, 12)"
   ]
  },
  {
   "cell_type": "code",
   "execution_count": null,
   "metadata": {},
   "outputs": [],
   "source": [
    "df = pd.DataFrame()\n",
    "\n",
    "# 여러 파일 불러와서 합치기\n",
    "for yy in range(2010, 2020):\n",
    "    for mm in range(1, 13): \n",
    "        try:\n",
    "            # zfill() 함수 (0을 포함한 두 자리로 출력)\n",
    "            temp = create_kto_data(str(yy), str(mm).zfill(2))\n",
    "            df = df.append(temp, ignore_index=True)\n",
    "        except:\n",
    "            pass"
   ]
  },
  {
   "cell_type": "code",
   "execution_count": null,
   "metadata": {},
   "outputs": [],
   "source": []
  },
  {
   "cell_type": "code",
   "execution_count": null,
   "metadata": {},
   "outputs": [],
   "source": []
  },
  {
   "cell_type": "code",
   "execution_count": null,
   "metadata": {},
   "outputs": [],
   "source": []
  },
  {
   "cell_type": "markdown",
   "metadata": {},
   "source": [
    "# DataFrame"
   ]
  },
  {
   "cell_type": "code",
   "execution_count": null,
   "metadata": {},
   "outputs": [],
   "source": [
    "# 데이터 프레임 크기\n",
    "df.shape\n",
    "# 데이터 정보\n",
    "df.info()\n",
    "# 기초통계량\n",
    "df.describe()"
   ]
  },
  {
   "cell_type": "code",
   "execution_count": null,
   "metadata": {},
   "outputs": [],
   "source": [
    "df = df.fillna(0)\n",
    "df.drop('a', axis=1, inplace=True)\n",
    "df = df.drop(columns=['item_id','author','title_clean','publisher'])"
   ]
  },
  {
   "cell_type": "code",
   "execution_count": null,
   "metadata": {},
   "outputs": [],
   "source": [
    "df.rename(columns={'a':'b'}, inplace=True)"
   ]
  },
  {
   "cell_type": "code",
   "execution_count": null,
   "metadata": {},
   "outputs": [],
   "source": [
    "df2 = df2.merge(df1, \n",
    "                on='id', \n",
    "                how='left')\n",
    "\n",
    "df2 = pd.merge(left=df1, \n",
    "               right=df2,\n",
    "               how='left',\n",
    "               left_on='국적코드',\n",
    "               right_on='국적코드')"
   ]
  },
  {
   "cell_type": "code",
   "execution_count": null,
   "metadata": {},
   "outputs": [],
   "source": [
    "df2 = df1.groupby(['a','b'])['c'].agg([('column명', 'nunique')]).reset_index()"
   ]
  },
  {
   "cell_type": "code",
   "execution_count": null,
   "metadata": {},
   "outputs": [],
   "source": [
    "df2 = df1.pivot_table(values='입국객수'\n",
    "                      index='국적명',\n",
    "                      columns='기준년월',\n",
    "                      aggfunc='mean' )\n",
    "\n",
    "df2 = pd.pivot_table(df1, index=['month','id'], columns='c', values='colume명',\n",
    "                          aggfunc=lambda x: np.where(len(x) >=1, 1, 0), fill_value=0). \\\n",
    "                          reset_index(). \\\n",
    "                          query('month < 12'). \\\n",
    "                          drop(columns=['month','id']).values"
   ]
  },
  {
   "cell_type": "code",
   "execution_count": null,
   "metadata": {},
   "outputs": [],
   "source": [
    "df2 = df1.append(df2, ignore_index=True)"
   ]
  },
  {
   "cell_type": "code",
   "execution_count": null,
   "metadata": {},
   "outputs": [],
   "source": []
  },
  {
   "cell_type": "markdown",
   "metadata": {},
   "source": [
    "# 필터링"
   ]
  },
  {
   "cell_type": "code",
   "execution_count": 2,
   "metadata": {},
   "outputs": [],
   "source": [
    "# 조건에 따른 bool 출력\n",
    "condition = (sample_1['성별'] == '남성')\n",
    "\n",
    "condition = (sample_1['입국객수'] >= 150000) \n",
    "\n",
    "conditions = (sample_1['성별'] == '남성') \\\n",
    "    & (sample_1['입국객수'] >= 150000)\n",
    "\n",
    "conditions = (sample_1['국적코드'] == 'A01') \\\n",
    "                | (sample_1['국적코드'] == 'A18')\n",
    "\n",
    "conditions = (sample_1['국적코드'].isin(['A01', 'A18'])) \n",
    "\n",
    "# 각 컬럼에서 0인 부분 필터링\n",
    "condition = (kto_201901['관광'] == 0) \\\n",
    "                | (kto_201901['상용'] == 0) \\\n",
    "                | (kto_201901['공용'] == 0) \\\n",
    "                | (kto_201901['유학/연수'] == 0) \n",
    "kto_201901[condition]\n",
    "\n",
    "# 조건에 맞는 row 출력\n",
    "sample_1[condition]\n",
    "\n",
    "# 추가 조건 설정\n",
    "conditions = (sample_1['국적코드'].isin(['A01', 'A18'])) \n",
    "sample_1[conditions == False]"
   ]
  },
  {
   "cell_type": "markdown",
   "metadata": {},
   "source": [
    "# 정렬"
   ]
  },
  {
   "cell_type": "code",
   "execution_count": 4,
   "metadata": {},
   "outputs": [],
   "source": [
    "df.sort_values(by='비율(%)', ascending=False)"
   ]
  },
  {
   "cell_type": "markdown",
   "metadata": {},
   "source": [
    "# lambda 예시"
   ]
  },
  {
   "cell_type": "code",
   "execution_count": null,
   "metadata": {},
   "outputs": [],
   "source": [
    "df['a'] = df['a'].apply(lambda x: x+i)\n",
    "df['b'] = df['a'].apply(lambda x: 1 if x>0 else 0)\n",
    "\n",
    "df['b'] = df['a'].apply(lambda x: func(x))\n",
    "df2['a'] = df1.apply(lambda x: func(x), axis=1)\n",
    "\n",
    "df['year'] = df['date'].apply(lambda x: x.year)\n",
    "df['month'] = df['date'].apply(lambda x: x.month)\n",
    "\n",
    "df2 = df1.groupby('id')['month'].agg([('sales_cnt',lambda x: x.nunique())])\n",
    "df['age'] = df[['month','date']].apply(lambda x: (2014-x['date'].year)*12 + (x['month'] - x['date'].month) \n",
    "                                       if not pd.isnull(x['date']) \n",
    "                                       else np.NaN, axis=1).reset_index().sort_values('id', ascending=False)"
   ]
  },
  {
   "cell_type": "code",
   "execution_count": null,
   "metadata": {},
   "outputs": [],
   "source": []
  },
  {
   "cell_type": "code",
   "execution_count": null,
   "metadata": {},
   "outputs": [],
   "source": []
  },
  {
   "cell_type": "markdown",
   "metadata": {},
   "source": [
    "# debugging"
   ]
  },
  {
   "cell_type": "code",
   "execution_count": null,
   "metadata": {},
   "outputs": [],
   "source": [
    "# 파일 앞 부분에 작성\n",
    "_debug = False # debugging시 True로 활성화\n",
    "if _debug == True:\n",
    "    from ipdb import set_trace\n",
    "\n",
    "# 이후 원하는 위치 바로 위에 작성\n",
    "if _debug == True:\n",
    "    set_trace():\n",
    "# 해당 부분에서 debugging 시작\n",
    "# N, C, S, R 등으로 조작\n",
    "# exit로 종료"
   ]
  },
  {
   "cell_type": "code",
   "execution_count": null,
   "metadata": {},
   "outputs": [],
   "source": []
  }
 ],
 "metadata": {
  "kernelspec": {
   "display_name": "Python 3",
   "language": "python",
   "name": "python3"
  },
  "language_info": {
   "codemirror_mode": {
    "name": "ipython",
    "version": 3
   },
   "file_extension": ".py",
   "mimetype": "text/x-python",
   "name": "python",
   "nbconvert_exporter": "python",
   "pygments_lexer": "ipython3",
   "version": "3.7.2"
  },
  "toc": {
   "base_numbering": 1,
   "nav_menu": {},
   "number_sections": true,
   "sideBar": true,
   "skip_h1_title": false,
   "title_cell": "Table of Contents",
   "title_sidebar": "Contents",
   "toc_cell": false,
   "toc_position": {},
   "toc_section_display": true,
   "toc_window_display": false
  },
  "varInspector": {
   "cols": {
    "lenName": 16,
    "lenType": 16,
    "lenVar": 40
   },
   "kernels_config": {
    "python": {
     "delete_cmd_postfix": "",
     "delete_cmd_prefix": "del ",
     "library": "var_list.py",
     "varRefreshCmd": "print(var_dic_list())"
    },
    "r": {
     "delete_cmd_postfix": ") ",
     "delete_cmd_prefix": "rm(",
     "library": "var_list.r",
     "varRefreshCmd": "cat(var_dic_list()) "
    }
   },
   "types_to_exclude": [
    "module",
    "function",
    "builtin_function_or_method",
    "instance",
    "_Feature"
   ],
   "window_display": false
  }
 },
 "nbformat": 4,
 "nbformat_minor": 2
}

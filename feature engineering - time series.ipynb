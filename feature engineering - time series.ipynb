{
 "cells": [
  {
   "cell_type": "code",
   "execution_count": null,
   "metadata": {
    "_cell_guid": "b1076dfc-b9ad-4769-8c92-a6c4dae69d19",
    "_uuid": "8f2839f25d086af736a60e9eeb907d3b93b6e0e5"
   },
   "outputs": [],
   "source": [
    "import numpy as np\n",
    "import pandas as pd\n",
    "pd.set_option('display.max_rows', 100)\n",
    "pd.set_option('display.max_columns', 100)\n",
    "\n",
    "import seaborn as sns\n",
    "import matplotlib.pyplot as plt\n",
    "from matplotlib import font_manager, rc\n",
    "%matplotlib inline\n",
    "\n",
    "import time\n",
    "import sys\n",
    "import gc\n",
    "import pickle\n",
    "import platform"
   ]
  },
  {
   "cell_type": "code",
   "execution_count": null,
   "metadata": {},
   "outputs": [],
   "source": [
    "from datetime import datetime, timedelta\n",
    "import math\n",
    "\n",
    "import copy"
   ]
  },
  {
   "cell_type": "markdown",
   "metadata": {},
   "source": [
    "# 날짜 차이 계산 함수"
   ]
  },
  {
   "cell_type": "code",
   "execution_count": null,
   "metadata": {},
   "outputs": [],
   "source": [
    "def timediff(x):\n",
    "    return pd.Timedelta(x['year_month'] - x['pub_date'])"
   ]
  },
  {
   "cell_type": "code",
   "execution_count": null,
   "metadata": {},
   "outputs": [],
   "source": [
    "#datetime 처리\n",
    "import datetime as dt\n",
    "\n",
    "df['pub_date'] = df['pub_date'].values.astype(np.int64)\n",
    "df.pub_date.max() # 오늘보다 미래인 pub date 제거\n",
    "\n",
    "a = list(df[df['pub_date'] > 20191205].index)\n",
    "df.at[a, 'pub_date'] = '20101010'\n",
    "\n",
    "df['pub_date'] = df['pub_date'].values.astype(np.int64)\n",
    "df[df['pub_date'] > 20191205]\n",
    "\n",
    "df['new_date'] = df['pub_date'].apply(lambda x: pd.to_datetime(str(x), format='%Y%m%d'))"
   ]
  },
  {
   "cell_type": "code",
   "execution_count": null,
   "metadata": {},
   "outputs": [],
   "source": [
    "def diff_month(d1, d2):\n",
    "    return (d1.year - d2.year) * 12 + d1.month - d2.month\n",
    "\n",
    "df['months_since_pub'] = df['new_date'].apply(lambda x: diff_month(present, x))"
   ]
  },
  {
   "cell_type": "markdown",
   "metadata": {},
   "source": [
    "# n일 단위로 쪼개기"
   ]
  },
  {
   "cell_type": "code",
   "execution_count": 1,
   "metadata": {},
   "outputs": [],
   "source": [
    "def divide_week(n, date): \n",
    "    first_day = date.replace(day=1)\n",
    "    number_of_days = (date.replace(month = date.month % 12 +1, day = 1)-timedelta(days=1)).day\n",
    "    if (number_of_days%n) > (n/2):\n",
    "        max_week = int(math.ceil(number_of_days/n))\n",
    "    else:\n",
    "        max_week = int(math.floor(number_of_days/n))\n",
    "    for i in range(0, max_week):\n",
    "        start_day = i * n + 1\n",
    "        end_day = start_day + n - 1\n",
    "        if end_day > number_of_days:\n",
    "            end_day = number_of_days\n",
    "        if date>=date.replace(day=start_day) and date<date.replace(day=end_day)+timedelta(days=1):\n",
    "            return i+1\n",
    "    \n",
    "    if date.day >= max_week*n:\n",
    "        return max_week"
   ]
  },
  {
   "cell_type": "code",
   "execution_count": null,
   "metadata": {},
   "outputs": [],
   "source": [
    "DIVIDE_DAY = 6\n",
    "train['week'] = train['date'].apply(lambda x: divide_week(DIVIDE_DAY, x))"
   ]
  },
  {
   "cell_type": "markdown",
   "metadata": {},
   "source": [
    "# 시계열 데이터에서 Lag_feature 생성"
   ]
  },
  {
   "cell_type": "markdown",
   "metadata": {},
   "source": [
    "## shift 함수 사용"
   ]
  },
  {
   "cell_type": "code",
   "execution_count": null,
   "metadata": {
    "_uuid": "763aca242154ea10fa0a62fffadb4ef90e9532d6"
   },
   "outputs": [],
   "source": [
    "# 전날짜의 close 가격을 삽입\n",
    "df['K122630_close_lag'] = df['K122630_close'].shift(-1)\n",
    "# shift값 (index 앞뒤 간격) 다양하게 사용"
   ]
  },
  {
   "cell_type": "markdown",
   "metadata": {},
   "source": [
    "## 함수 생성 사용"
   ]
  },
  {
   "cell_type": "code",
   "execution_count": null,
   "metadata": {},
   "outputs": [],
   "source": [
    "def lag_feature(df, lags, col):\n",
    "    tmp = df[['month','item_id',col]]\n",
    "    for i in lags:\n",
    "        shifted = tmp.copy()\n",
    "        shifted.columns = ['month','item_id', col+f'_lag_{i}']\n",
    "        shifted['month'] += i\n",
    "        df = pd.merge(df, shifted, on=['month','item_id'], how='left')\n",
    "    return df\n",
    "\n",
    "def lag_feature(df1, df2, lags, col):\n",
    "    tmp = df2[['month','a', 'b', col]]\n",
    "    for i in lags:\n",
    "        shifted = tmp.copy()\n",
    "        shifted.columns = ['month','a','b', col+f'_lag_{i}']\n",
    "        shifted['month'] += i\n",
    "        df1 = pd.merge(df1, shifted, on=['month','a','b'], how='left')\n",
    "    return df1\n",
    "\n",
    "lags = [1,2,3,4]\n",
    "\n",
    "def select_trend(row):\n",
    "    for i in lags:\n",
    "        if row['delta_cnt_lag_'+str(i)]:\n",
    "            return row['delta_cnt_lag_'+str(i)]\n",
    "    return 0\n",
    "\n",
    "df['delta_cnt_lag'] = df.apply(select_trend, axis=1)\n",
    "df['delta_cnt_lag'] = df['delta_cnt_lag'].astype(np.float16)\n",
    "df['delta_cnt_lag'].fillna(0, inplace=True)"
   ]
  },
  {
   "cell_type": "code",
   "execution_count": null,
   "metadata": {},
   "outputs": [],
   "source": [
    "def lag_feature(df_input, n, idx, col):\n",
    "    tmp_columns = copy.deepcopy(idx)\n",
    "    tmp_columns.append(col)\n",
    "    for i in range(1,n+1):\n",
    "        shifted = copy.deepcopy(df_input[tmp_columns])\n",
    "        shifted_tmp_columns = copy.deepcopy(list(shifted.columns))\n",
    "        shifted_tmp_columns.remove(col)\n",
    "        shifted_tmp_columns.append(col+f'_lag_{i}')\n",
    "        shifted.columns = shifted_tmp_columns\n",
    "        shifted['month'] = shifted['month'].apply(lambda x: x+i)\n",
    "        shifted = shifted[shifted['month']<=12]\n",
    "        df_input = df_input.merge(shifted.drop_duplicates(subset= idx), on=idx, how='left')\n",
    "    return df_input\n",
    "\n",
    "df = lag_feature(df, LAG, ['month','item_id'], 'item_cnt_month'); df"
   ]
  },
  {
   "cell_type": "code",
   "execution_count": null,
   "metadata": {},
   "outputs": [],
   "source": [
    "LAG = 3\n",
    "DIVIDE_DAY = 6\n",
    "\n",
    "for i in range(1,DIVIDE_DAY):\n",
    "    df=lag_feature(df, LAG, ['month','item_id'], f'item_cnt_week{i}')"
   ]
  },
  {
   "cell_type": "markdown",
   "metadata": {},
   "source": [
    "# 월별 랭킹 구하기"
   ]
  },
  {
   "cell_type": "code",
   "execution_count": null,
   "metadata": {},
   "outputs": [],
   "source": [
    "def get_rank(df, col):\n",
    "    rank_df = pd.DataFrame(columns=['month', col, col+f'_rank'])\n",
    "    for i in range(1,13):\n",
    "        tmp = copy.deepcopy(df[(df['month']==i) & (df[col].notna())].sort_values(col, ascending=False))\n",
    "        tmp = pd.DataFrame(columns=[col], data=tmp[col].unique())\n",
    "        tmp['month'] = i\n",
    "        tmp = tmp.reset_index().rename(columns={'index':col+f'_rank'})\n",
    "        tmp[col+f'_rank'] += 1\n",
    "        rank_df = pd.concat([rank_df,tmp], ignore_index=True, sort=False)\n",
    "    df = df.merge(rank_df, on=['month', col], how='left')\n",
    "    return df"
   ]
  },
  {
   "cell_type": "code",
   "execution_count": null,
   "metadata": {},
   "outputs": [],
   "source": []
  },
  {
   "cell_type": "markdown",
   "metadata": {},
   "source": [
    "# End"
   ]
  },
  {
   "cell_type": "code",
   "execution_count": null,
   "metadata": {},
   "outputs": [],
   "source": []
  }
 ],
 "metadata": {
  "kernelspec": {
   "display_name": "Python 3",
   "language": "python",
   "name": "python3"
  },
  "language_info": {
   "codemirror_mode": {
    "name": "ipython",
    "version": 3
   },
   "file_extension": ".py",
   "mimetype": "text/x-python",
   "name": "python",
   "nbconvert_exporter": "python",
   "pygments_lexer": "ipython3",
   "version": "3.7.2"
  },
  "toc": {
   "base_numbering": 1,
   "nav_menu": {},
   "number_sections": true,
   "sideBar": true,
   "skip_h1_title": false,
   "title_cell": "Table of Contents",
   "title_sidebar": "Contents",
   "toc_cell": false,
   "toc_position": {},
   "toc_section_display": true,
   "toc_window_display": false
  },
  "varInspector": {
   "cols": {
    "lenName": 16,
    "lenType": 16,
    "lenVar": 40
   },
   "kernels_config": {
    "python": {
     "delete_cmd_postfix": "",
     "delete_cmd_prefix": "del ",
     "library": "var_list.py",
     "varRefreshCmd": "print(var_dic_list())"
    },
    "r": {
     "delete_cmd_postfix": ") ",
     "delete_cmd_prefix": "rm(",
     "library": "var_list.r",
     "varRefreshCmd": "cat(var_dic_list()) "
    }
   },
   "types_to_exclude": [
    "module",
    "function",
    "builtin_function_or_method",
    "instance",
    "_Feature"
   ],
   "window_display": false
  }
 },
 "nbformat": 4,
 "nbformat_minor": 1
}
